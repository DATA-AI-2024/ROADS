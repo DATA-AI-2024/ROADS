{
 "cells": [
  {
   "cell_type": "code",
   "execution_count": 1,
   "metadata": {},
   "outputs": [
    {
     "name": "stdout",
     "output_type": "stream",
     "text": [
      "Created ../configs/config_20240329.ini\n",
      "Created ../configs/config_20230926.ini\n",
      "Created ../configs/config_20240126.ini\n",
      "Created ../configs/config_20230729.ini\n",
      "Created ../configs/config_20240131.ini\n",
      "Created ../configs/config_20231130.ini\n",
      "Created ../configs/config_20230730.ini\n",
      "Created ../configs/config_20230924.ini\n",
      "Created ../configs/config_20230525.ini\n",
      "Created ../configs/config_20240328.ini\n",
      "Created ../configs/config_20231129.ini\n",
      "Created ../configs/config_20230527.ini\n",
      "Created ../configs/config_20230725.ini\n",
      "Created ../configs/config_20231128.ini\n",
      "Created ../configs/config_20240128.ini\n",
      "Created ../configs/config_20230728.ini\n",
      "Created ../configs/config_20240325.ini\n",
      "Created ../configs/config_20240125.ini\n",
      "Created ../configs/config_20230529.ini\n",
      "Created ../configs/config_20230731.ini\n",
      "Created ../configs/config_20231126.ini\n",
      "Created ../configs/config_20230530.ini\n",
      "Created ../configs/config_20230930.ini\n",
      "Created ../configs/config_20240331.ini\n",
      "Created ../configs/config_20230526.ini\n",
      "Created ../configs/config_20230927.ini\n",
      "Created ../configs/config_20240327.ini\n",
      "Created ../configs/config_20230531.ini\n",
      "Created ../configs/config_20230727.ini\n",
      "Created ../configs/config_20230928.ini\n",
      "Created ../configs/config_20230528.ini\n",
      "Created ../configs/config_20231124.ini\n",
      "Created ../configs/config_20240130.ini\n",
      "Created ../configs/config_20230726.ini\n",
      "Created ../configs/config_20240129.ini\n",
      "Created ../configs/config_20240326.ini\n",
      "Created ../configs/config_20240330.ini\n",
      "Created ../configs/config_20230929.ini\n",
      "Created ../configs/config_20231125.ini\n",
      "Created ../configs/config_20230925.ini\n",
      "Created ../configs/config_20231127.ini\n",
      "Created ../configs/config_20240127.ini\n",
      "All config files have been created.\n"
     ]
    }
   ],
   "source": [
    "import configparser\n",
    "import os\n",
    "from glob import glob\n",
    "\n",
    "# 생성할 날짜 파싱하기\n",
    "filepaths = glob(\"../../data/simulate_test/*.csv\")\n",
    "dates = [os.path.splitext(os.path.basename(filepath))[0] for filepath in filepaths]\n",
    "\n",
    "# 원본 config.ini 파일 읽기\n",
    "config = configparser.ConfigParser()\n",
    "config.read('../config.ini')\n",
    "\n",
    "# 날짜별로 새로운 config 파일 생성\n",
    "for date in dates:\n",
    "    # 저장할 디렉토리 생성 (없는 경우)\n",
    "    os.makedirs('../configs', exist_ok=True)\n",
    "    \n",
    "    # 새로운 config 파일 이름\n",
    "    new_config_filename = f'../configs/config_{date}.ini'\n",
    "    \n",
    "    # test_file 값 변경\n",
    "    config['SIMULATION']['test_file'] = f'data/simulate_test/{date}.csv'\n",
    "    \n",
    "    # 새로운 config 파일 저장\n",
    "    with open(new_config_filename, 'w') as configfile:\n",
    "        config.write(configfile)\n",
    "    \n",
    "    print(f'Created {new_config_filename}')\n",
    "\n",
    "print('All config files have been created.')"
   ]
  }
 ],
 "metadata": {
  "kernelspec": {
   "display_name": "taxi",
   "language": "python",
   "name": "python3"
  },
  "language_info": {
   "codemirror_mode": {
    "name": "ipython",
    "version": 3
   },
   "file_extension": ".py",
   "mimetype": "text/x-python",
   "name": "python",
   "nbconvert_exporter": "python",
   "pygments_lexer": "ipython3",
   "version": "3.11.9"
  }
 },
 "nbformat": 4,
 "nbformat_minor": 2
}
