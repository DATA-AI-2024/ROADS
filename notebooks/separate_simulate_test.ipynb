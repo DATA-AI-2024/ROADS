{
 "cells": [
  {
   "cell_type": "code",
   "execution_count": 2,
   "metadata": {},
   "outputs": [
    {
     "name": "stdout",
     "output_type": "stream",
     "text": [
      "Saved file: ../../data/simulate_test/20230525.csv\n",
      "Saved file: ../../data/simulate_test/20230526.csv\n",
      "Saved file: ../../data/simulate_test/20230527.csv\n",
      "Saved file: ../../data/simulate_test/20230528.csv\n",
      "Saved file: ../../data/simulate_test/20230529.csv\n",
      "Saved file: ../../data/simulate_test/20230530.csv\n",
      "Saved file: ../../data/simulate_test/20230531.csv\n",
      "Saved file: ../../data/simulate_test/20230725.csv\n",
      "Saved file: ../../data/simulate_test/20230726.csv\n",
      "Saved file: ../../data/simulate_test/20230727.csv\n",
      "Saved file: ../../data/simulate_test/20230728.csv\n",
      "Saved file: ../../data/simulate_test/20230729.csv\n",
      "Saved file: ../../data/simulate_test/20230730.csv\n",
      "Saved file: ../../data/simulate_test/20230731.csv\n",
      "Saved file: ../../data/simulate_test/20230924.csv\n",
      "Saved file: ../../data/simulate_test/20230925.csv\n",
      "Saved file: ../../data/simulate_test/20230926.csv\n",
      "Saved file: ../../data/simulate_test/20230927.csv\n",
      "Saved file: ../../data/simulate_test/20230928.csv\n",
      "Saved file: ../../data/simulate_test/20230929.csv\n",
      "Saved file: ../../data/simulate_test/20230930.csv\n",
      "Saved file: ../../data/simulate_test/20231124.csv\n",
      "Saved file: ../../data/simulate_test/20231125.csv\n",
      "Saved file: ../../data/simulate_test/20231126.csv\n",
      "Saved file: ../../data/simulate_test/20231127.csv\n",
      "Saved file: ../../data/simulate_test/20231128.csv\n",
      "Saved file: ../../data/simulate_test/20231129.csv\n",
      "Saved file: ../../data/simulate_test/20231130.csv\n",
      "Saved file: ../../data/simulate_test/20240125.csv\n",
      "Saved file: ../../data/simulate_test/20240126.csv\n",
      "Saved file: ../../data/simulate_test/20240127.csv\n",
      "Saved file: ../../data/simulate_test/20240128.csv\n",
      "Saved file: ../../data/simulate_test/20240129.csv\n",
      "Saved file: ../../data/simulate_test/20240130.csv\n",
      "Saved file: ../../data/simulate_test/20240131.csv\n",
      "Saved file: ../../data/simulate_test/20240325.csv\n",
      "Saved file: ../../data/simulate_test/20240326.csv\n",
      "Saved file: ../../data/simulate_test/20240327.csv\n",
      "Saved file: ../../data/simulate_test/20240328.csv\n",
      "Saved file: ../../data/simulate_test/20240329.csv\n",
      "Saved file: ../../data/simulate_test/20240330.csv\n",
      "Saved file: ../../data/simulate_test/20240331.csv\n"
     ]
    }
   ],
   "source": [
    "import os\n",
    "\n",
    "import pandas as pd\n",
    "\n",
    "# 데이터 로드\n",
    "df = pd.read_csv('../../data/simulate_test.csv')  # 여기에 실제 파일 경로를 입력하세요\n",
    "\n",
    "# datetime 열을 datetime 타입으로 변환\n",
    "df['datetime'] = pd.to_datetime(df['datetime'])\n",
    "\n",
    "# 날짜별로 그룹화하고 각 그룹에 대해 파일 저장\n",
    "for date, group in df.groupby(df['datetime'].dt.date):\n",
    "    # 날짜를 문자열로 변환 (파일명용)\n",
    "    date_str = date.strftime('%Y%m%d')\n",
    "    \n",
    "    # 저장할 디렉토리 생성 (없는 경우)\n",
    "    os.makedirs('../../data/simulate_test', exist_ok=True)\n",
    "    \n",
    "    # 파일 저장 (CSV 형식)\n",
    "    filename = f'../../data/simulate_test/{date_str}.csv'\n",
    "    group.sort_values('datetime').to_csv(filename, index=False)\n",
    "    print(f'Saved file: {filename}')"
   ]
  }
 ],
 "metadata": {
  "kernelspec": {
   "display_name": "taxi",
   "language": "python",
   "name": "python3"
  },
  "language_info": {
   "codemirror_mode": {
    "name": "ipython",
    "version": 3
   },
   "file_extension": ".py",
   "mimetype": "text/x-python",
   "name": "python",
   "nbconvert_exporter": "python",
   "pygments_lexer": "ipython3",
   "version": "3.11.9"
  }
 },
 "nbformat": 4,
 "nbformat_minor": 2
}
