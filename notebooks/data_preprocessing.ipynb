{
 "cells": [
  {
   "cell_type": "code",
   "execution_count": 39,
   "metadata": {},
   "outputs": [],
   "source": [
    "from datetime import datetime, timedelta\n",
    "\n",
    "import pandas as pd"
   ]
  },
  {
   "cell_type": "code",
   "execution_count": 76,
   "metadata": {},
   "outputs": [
    {
     "data": {
      "text/plain": [
       "(1082657, 5)"
      ]
     },
     "execution_count": 76,
     "metadata": {},
     "output_type": "execute_result"
    }
   ],
   "source": [
    "train_v1 = pd.read_csv(\"../data/raw/v1/train.csv\", encoding=\"cp949\")\n",
    "train_v1 = train_v1[(train_v1[\"승차X좌표\"] != 0) & (train_v1[\"승차Y좌표\"] != 0)]\n",
    "train_v1['승차시간'] = pd.to_datetime(train_v1['승차시간'])\n",
    "train_v1.shape"
   ]
  },
  {
   "cell_type": "code",
   "execution_count": 77,
   "metadata": {},
   "outputs": [
    {
     "data": {
      "text/html": [
       "<div>\n",
       "<style scoped>\n",
       "    .dataframe tbody tr th:only-of-type {\n",
       "        vertical-align: middle;\n",
       "    }\n",
       "\n",
       "    .dataframe tbody tr th {\n",
       "        vertical-align: top;\n",
       "    }\n",
       "\n",
       "    .dataframe thead th {\n",
       "        text-align: right;\n",
       "    }\n",
       "</style>\n",
       "<table border=\"1\" class=\"dataframe\">\n",
       "  <thead>\n",
       "    <tr style=\"text-align: right;\">\n",
       "      <th></th>\n",
       "      <th>차량번호</th>\n",
       "      <th>승차시간</th>\n",
       "      <th>승차X좌표</th>\n",
       "      <th>승차Y좌표</th>\n",
       "      <th>요일</th>\n",
       "    </tr>\n",
       "  </thead>\n",
       "  <tbody>\n",
       "    <tr>\n",
       "      <th>44</th>\n",
       "      <td>sqonam</td>\n",
       "      <td>2023-04-01 05:15:37</td>\n",
       "      <td>127.377749</td>\n",
       "      <td>36.350133</td>\n",
       "      <td>Saturday</td>\n",
       "    </tr>\n",
       "    <tr>\n",
       "      <th>45</th>\n",
       "      <td>sqonam</td>\n",
       "      <td>2023-04-01 05:42:47</td>\n",
       "      <td>127.358606</td>\n",
       "      <td>36.353338</td>\n",
       "      <td>Saturday</td>\n",
       "    </tr>\n",
       "    <tr>\n",
       "      <th>46</th>\n",
       "      <td>sqonam</td>\n",
       "      <td>2023-04-01 06:02:58</td>\n",
       "      <td>127.380240</td>\n",
       "      <td>36.365618</td>\n",
       "      <td>Saturday</td>\n",
       "    </tr>\n",
       "    <tr>\n",
       "      <th>47</th>\n",
       "      <td>sqonam</td>\n",
       "      <td>2023-04-01 06:15:05</td>\n",
       "      <td>127.426666</td>\n",
       "      <td>36.351172</td>\n",
       "      <td>Saturday</td>\n",
       "    </tr>\n",
       "    <tr>\n",
       "      <th>48</th>\n",
       "      <td>sqonam</td>\n",
       "      <td>2023-04-01 06:28:36</td>\n",
       "      <td>127.408217</td>\n",
       "      <td>36.324442</td>\n",
       "      <td>Saturday</td>\n",
       "    </tr>\n",
       "  </tbody>\n",
       "</table>\n",
       "</div>"
      ],
      "text/plain": [
       "      차량번호                승차시간       승차X좌표      승차Y좌표        요일\n",
       "44  sqonam 2023-04-01 05:15:37  127.377749  36.350133  Saturday\n",
       "45  sqonam 2023-04-01 05:42:47  127.358606  36.353338  Saturday\n",
       "46  sqonam 2023-04-01 06:02:58  127.380240  36.365618  Saturday\n",
       "47  sqonam 2023-04-01 06:15:05  127.426666  36.351172  Saturday\n",
       "48  sqonam 2023-04-01 06:28:36  127.408217  36.324442  Saturday"
      ]
     },
     "execution_count": 77,
     "metadata": {},
     "output_type": "execute_result"
    }
   ],
   "source": [
    "train_v1.head()"
   ]
  },
  {
   "cell_type": "code",
   "execution_count": 85,
   "metadata": {},
   "outputs": [
    {
     "name": "stderr",
     "output_type": "stream",
     "text": [
      "/var/folders/yk/1k0z841d31x0hr5nbkdxbsxm0000gn/T/ipykernel_3531/502623032.py:17: DtypeWarning: Columns (1,5,9) have mixed types. Specify dtype option on import or set low_memory=False.\n",
      "  train_v3 = pd.read_csv(\"../data/raw/v3/train.csv\", encoding=\"cp949\")\n"
     ]
    },
    {
     "data": {
      "text/plain": [
       "(1151410, 11)"
      ]
     },
     "execution_count": 85,
     "metadata": {},
     "output_type": "execute_result"
    }
   ],
   "source": [
    "# 승/하차시간 열을 정제\n",
    "def clean_drop_off_time(value):\n",
    "    if isinstance(value, datetime):\n",
    "        return value\n",
    "    if isinstance(value, int):\n",
    "        value = str(value)\n",
    "    if isinstance(value, str):\n",
    "        # 'YYYYMMDDHHMMSS' 형식인 경우\n",
    "        if len(value) == 14 and value.isdigit():\n",
    "            return datetime.strptime(value, '%Y%m%d%H%M%S').strftime('%Y-%m-%d %H:%M:%S')\n",
    "        # 이미 'YYYY-MM-DD HH:MM:SS' 형식인 경우\n",
    "        elif len(value) == 19 and value[4] == '-' and value[13] == ':':\n",
    "            return value\n",
    "    # 다른 모든 경우 (NaT 포함)\n",
    "    return pd.NaT\n",
    "\n",
    "train_v3 = pd.read_csv(\"../data/raw/v3/train.csv\", encoding=\"cp949\")\n",
    "train_v3 = train_v3[(train_v3[\"승차X좌표\"] != 0) & (train_v3[\"승차Y좌표\"] != 0)]\n",
    "train_v3['승차시간'] = train_v3['승차시간'].apply(clean_drop_off_time)\n",
    "train_v3['하차시간'] = train_v3['하차시간'].apply(clean_drop_off_time)\n",
    "train_v3['승차시간'] = pd.to_datetime(train_v3['승차시간'])\n",
    "train_v3['하차시간'] = pd.to_datetime(train_v3['하차시간'])\n",
    "train_v3['승차시간'].where(train_v3['승차시간'].dt.year != 1970, pd.NaT, inplace=True)\n",
    "train_v3['하차시간'].where(train_v3['하차시간'].dt.year != 1970, pd.NaT, inplace=True)\n",
    "train_v3.shape"
   ]
  },
  {
   "cell_type": "code",
   "execution_count": 87,
   "metadata": {},
   "outputs": [
    {
     "data": {
      "text/html": [
       "<div>\n",
       "<style scoped>\n",
       "    .dataframe tbody tr th:only-of-type {\n",
       "        vertical-align: middle;\n",
       "    }\n",
       "\n",
       "    .dataframe tbody tr th {\n",
       "        vertical-align: top;\n",
       "    }\n",
       "\n",
       "    .dataframe thead th {\n",
       "        text-align: right;\n",
       "    }\n",
       "</style>\n",
       "<table border=\"1\" class=\"dataframe\">\n",
       "  <thead>\n",
       "    <tr style=\"text-align: right;\">\n",
       "      <th></th>\n",
       "      <th>차량이름</th>\n",
       "      <th>승차시간</th>\n",
       "      <th>승차요일</th>\n",
       "      <th>승차X좌표</th>\n",
       "      <th>승차Y좌표</th>\n",
       "      <th>하차시간</th>\n",
       "      <th>하차X좌표</th>\n",
       "      <th>하차Y좌표</th>\n",
       "      <th>승차거리(m)</th>\n",
       "      <th>할증여부</th>\n",
       "      <th>요금</th>\n",
       "    </tr>\n",
       "  </thead>\n",
       "  <tbody>\n",
       "    <tr>\n",
       "      <th>0</th>\n",
       "      <td>xqbxch</td>\n",
       "      <td>NaT</td>\n",
       "      <td>Tuesday</td>\n",
       "      <td>127.367251</td>\n",
       "      <td>36.349866</td>\n",
       "      <td>2023-06-20 11:08:21</td>\n",
       "      <td>127.367251</td>\n",
       "      <td>36.349866</td>\n",
       "      <td>0.00</td>\n",
       "      <td>미할증</td>\n",
       "      <td>3300</td>\n",
       "    </tr>\n",
       "    <tr>\n",
       "      <th>1</th>\n",
       "      <td>xqbxch</td>\n",
       "      <td>NaT</td>\n",
       "      <td>Tuesday</td>\n",
       "      <td>127.367263</td>\n",
       "      <td>36.349684</td>\n",
       "      <td>2023-06-20 11:11:00</td>\n",
       "      <td>127.367263</td>\n",
       "      <td>36.349684</td>\n",
       "      <td>0.00</td>\n",
       "      <td>미할증</td>\n",
       "      <td>3300</td>\n",
       "    </tr>\n",
       "    <tr>\n",
       "      <th>3</th>\n",
       "      <td>xqbxch</td>\n",
       "      <td>NaT</td>\n",
       "      <td>Tuesday</td>\n",
       "      <td>127.340568</td>\n",
       "      <td>36.298811</td>\n",
       "      <td>2023-06-20 22:27:20</td>\n",
       "      <td>127.350915</td>\n",
       "      <td>36.305854</td>\n",
       "      <td>1518.13</td>\n",
       "      <td>미할증</td>\n",
       "      <td>3300</td>\n",
       "    </tr>\n",
       "    <tr>\n",
       "      <th>4</th>\n",
       "      <td>xqbxch</td>\n",
       "      <td>NaT</td>\n",
       "      <td>Tuesday</td>\n",
       "      <td>127.351858</td>\n",
       "      <td>36.299839</td>\n",
       "      <td>2023-06-20 22:47:15</td>\n",
       "      <td>127.374955</td>\n",
       "      <td>36.345087</td>\n",
       "      <td>7045.65</td>\n",
       "      <td>미할증</td>\n",
       "      <td>8000</td>\n",
       "    </tr>\n",
       "    <tr>\n",
       "      <th>5</th>\n",
       "      <td>xqbxch</td>\n",
       "      <td>NaT</td>\n",
       "      <td>Tuesday</td>\n",
       "      <td>127.371055</td>\n",
       "      <td>36.346926</td>\n",
       "      <td>2023-06-20 22:54:43</td>\n",
       "      <td>127.376224</td>\n",
       "      <td>36.350242</td>\n",
       "      <td>738.03</td>\n",
       "      <td>미할증</td>\n",
       "      <td>3300</td>\n",
       "    </tr>\n",
       "  </tbody>\n",
       "</table>\n",
       "</div>"
      ],
      "text/plain": [
       "     차량이름 승차시간     승차요일       승차X좌표      승차Y좌표                하차시간  \\\n",
       "0  xqbxch  NaT  Tuesday  127.367251  36.349866 2023-06-20 11:08:21   \n",
       "1  xqbxch  NaT  Tuesday  127.367263  36.349684 2023-06-20 11:11:00   \n",
       "3  xqbxch  NaT  Tuesday  127.340568  36.298811 2023-06-20 22:27:20   \n",
       "4  xqbxch  NaT  Tuesday  127.351858  36.299839 2023-06-20 22:47:15   \n",
       "5  xqbxch  NaT  Tuesday  127.371055  36.346926 2023-06-20 22:54:43   \n",
       "\n",
       "        하차X좌표      하차Y좌표  승차거리(m) 할증여부    요금  \n",
       "0  127.367251  36.349866     0.00  미할증  3300  \n",
       "1  127.367263  36.349684     0.00  미할증  3300  \n",
       "3  127.350915  36.305854  1518.13  미할증  3300  \n",
       "4  127.374955  36.345087  7045.65  미할증  8000  \n",
       "5  127.376224  36.350242   738.03  미할증  3300  "
      ]
     },
     "execution_count": 87,
     "metadata": {},
     "output_type": "execute_result"
    }
   ],
   "source": [
    "train_v3.head()"
   ]
  },
  {
   "cell_type": "code",
   "execution_count": 132,
   "metadata": {},
   "outputs": [],
   "source": [
    "# 데이터 전처리: 컬럼명 통일 및 데이터 타입 변환\n",
    "train_v1 = train_v1.rename(columns={'차량번호': '차량이름', '요일': '승차요일'})\n",
    "\n",
    "# 병합을 위한 키 생성\n",
    "train_v1['merge_key'] = train_v1['차량이름'] + train_v1['승차요일'] + train_v1['승차X좌표'].round(6).astype(str) + train_v1['승차Y좌표'].round(6).astype(str)\n",
    "train_v3['merge_key'] = train_v3['차량이름'] + train_v3['승차요일'] + train_v3['승차X좌표'].round(6).astype(str) + train_v3['승차Y좌표'].round(6).astype(str)\n",
    "\n",
    "# 데이터 병합\n",
    "train = pd.merge(train_v3, train_v1[['merge_key', '승차시간']], on='merge_key', how='left', suffixes=('', '_train_v1'))\n",
    "\n",
    "# 조건에 맞는 경우 승차시간 업데이트\n",
    "train.loc[train['승차시간'].isna(), '승차시간'] = train.loc[train['승차시간'].isna(), '승차시간_train_v1']\n",
    "\n",
    "# 불필요한 컬럼 제거\n",
    "train = train.drop(['merge_key', '승차시간_train_v1'], axis=1)"
   ]
  },
  {
   "cell_type": "code",
   "execution_count": 133,
   "metadata": {},
   "outputs": [],
   "source": [
    "train.dropna(inplace=True)"
   ]
  },
  {
   "cell_type": "code",
   "execution_count": 134,
   "metadata": {},
   "outputs": [],
   "source": [
    "train.drop_duplicates(subset=['차량이름', '승차시간'], keep=False, inplace=True)"
   ]
  },
  {
   "cell_type": "code",
   "execution_count": 143,
   "metadata": {},
   "outputs": [],
   "source": [
    "train = train[train['승차거리(m)'] != 0]"
   ]
  },
  {
   "cell_type": "code",
   "execution_count": 144,
   "metadata": {},
   "outputs": [
    {
     "data": {
      "text/plain": [
       "(890645, 11)"
      ]
     },
     "execution_count": 144,
     "metadata": {},
     "output_type": "execute_result"
    }
   ],
   "source": [
    "train.shape\n",
    "(1151410, 11)"
   ]
  },
  {
   "cell_type": "code",
   "execution_count": 145,
   "metadata": {},
   "outputs": [
    {
     "data": {
      "text/html": [
       "<div>\n",
       "<style scoped>\n",
       "    .dataframe tbody tr th:only-of-type {\n",
       "        vertical-align: middle;\n",
       "    }\n",
       "\n",
       "    .dataframe tbody tr th {\n",
       "        vertical-align: top;\n",
       "    }\n",
       "\n",
       "    .dataframe thead th {\n",
       "        text-align: right;\n",
       "    }\n",
       "</style>\n",
       "<table border=\"1\" class=\"dataframe\">\n",
       "  <thead>\n",
       "    <tr style=\"text-align: right;\">\n",
       "      <th></th>\n",
       "      <th>차량이름</th>\n",
       "      <th>승차시간</th>\n",
       "      <th>승차요일</th>\n",
       "      <th>승차X좌표</th>\n",
       "      <th>승차Y좌표</th>\n",
       "      <th>하차시간</th>\n",
       "      <th>하차X좌표</th>\n",
       "      <th>하차Y좌표</th>\n",
       "      <th>승차거리(m)</th>\n",
       "      <th>할증여부</th>\n",
       "      <th>요금</th>\n",
       "    </tr>\n",
       "  </thead>\n",
       "  <tbody>\n",
       "    <tr>\n",
       "      <th>0</th>\n",
       "      <td>acfgkx</td>\n",
       "      <td>2023-04-01 00:01:00</td>\n",
       "      <td>Saturday</td>\n",
       "      <td>127.377074</td>\n",
       "      <td>36.351814</td>\n",
       "      <td>2023-04-01 00:09:04</td>\n",
       "      <td>127.344545</td>\n",
       "      <td>36.357077</td>\n",
       "      <td>4427.0</td>\n",
       "      <td>할증</td>\n",
       "      <td>6600</td>\n",
       "    </tr>\n",
       "    <tr>\n",
       "      <th>1</th>\n",
       "      <td>acfgkx</td>\n",
       "      <td>2023-04-01 00:09:00</td>\n",
       "      <td>Saturday</td>\n",
       "      <td>127.344478</td>\n",
       "      <td>36.357087</td>\n",
       "      <td>2023-04-01 00:14:48</td>\n",
       "      <td>127.364499</td>\n",
       "      <td>36.354269</td>\n",
       "      <td>2827.0</td>\n",
       "      <td>할증</td>\n",
       "      <td>5160</td>\n",
       "    </tr>\n",
       "    <tr>\n",
       "      <th>3</th>\n",
       "      <td>acfgkx</td>\n",
       "      <td>2023-04-01 00:27:00</td>\n",
       "      <td>Saturday</td>\n",
       "      <td>127.392290</td>\n",
       "      <td>36.375748</td>\n",
       "      <td>2023-04-01 00:34:52</td>\n",
       "      <td>127.344714</td>\n",
       "      <td>36.354130</td>\n",
       "      <td>5813.0</td>\n",
       "      <td>할증</td>\n",
       "      <td>7920</td>\n",
       "    </tr>\n",
       "    <tr>\n",
       "      <th>4</th>\n",
       "      <td>acfgkx</td>\n",
       "      <td>2023-04-01 00:37:00</td>\n",
       "      <td>Saturday</td>\n",
       "      <td>127.351769</td>\n",
       "      <td>36.358168</td>\n",
       "      <td>2023-04-01 00:45:50</td>\n",
       "      <td>127.349764</td>\n",
       "      <td>36.392184</td>\n",
       "      <td>6436.0</td>\n",
       "      <td>할증</td>\n",
       "      <td>8520</td>\n",
       "    </tr>\n",
       "    <tr>\n",
       "      <th>5</th>\n",
       "      <td>acfgkx</td>\n",
       "      <td>2023-04-01 00:55:00</td>\n",
       "      <td>Saturday</td>\n",
       "      <td>127.359606</td>\n",
       "      <td>36.363154</td>\n",
       "      <td>2023-04-01 01:06:12</td>\n",
       "      <td>127.308421</td>\n",
       "      <td>36.343433</td>\n",
       "      <td>6427.0</td>\n",
       "      <td>할증</td>\n",
       "      <td>8760</td>\n",
       "    </tr>\n",
       "  </tbody>\n",
       "</table>\n",
       "</div>"
      ],
      "text/plain": [
       "     차량이름                승차시간      승차요일       승차X좌표      승차Y좌표  \\\n",
       "0  acfgkx 2023-04-01 00:01:00  Saturday  127.377074  36.351814   \n",
       "1  acfgkx 2023-04-01 00:09:00  Saturday  127.344478  36.357087   \n",
       "3  acfgkx 2023-04-01 00:27:00  Saturday  127.392290  36.375748   \n",
       "4  acfgkx 2023-04-01 00:37:00  Saturday  127.351769  36.358168   \n",
       "5  acfgkx 2023-04-01 00:55:00  Saturday  127.359606  36.363154   \n",
       "\n",
       "                 하차시간       하차X좌표      하차Y좌표  승차거리(m) 할증여부    요금  \n",
       "0 2023-04-01 00:09:04  127.344545  36.357077   4427.0   할증  6600  \n",
       "1 2023-04-01 00:14:48  127.364499  36.354269   2827.0   할증  5160  \n",
       "3 2023-04-01 00:34:52  127.344714  36.354130   5813.0   할증  7920  \n",
       "4 2023-04-01 00:45:50  127.349764  36.392184   6436.0   할증  8520  \n",
       "5 2023-04-01 01:06:12  127.308421  36.343433   6427.0   할증  8760  "
      ]
     },
     "execution_count": 145,
     "metadata": {},
     "output_type": "execute_result"
    }
   ],
   "source": [
    "train.head()"
   ]
  }
 ],
 "metadata": {
  "kernelspec": {
   "display_name": "dataai2024",
   "language": "python",
   "name": "python3"
  },
  "language_info": {
   "codemirror_mode": {
    "name": "ipython",
    "version": 3
   },
   "file_extension": ".py",
   "mimetype": "text/x-python",
   "name": "python",
   "nbconvert_exporter": "python",
   "pygments_lexer": "ipython3",
   "version": "3.11.10"
  }
 },
 "nbformat": 4,
 "nbformat_minor": 2
}
